{
 "cells": [
  {
   "cell_type": "code",
   "execution_count": 1,
   "metadata": {},
   "outputs": [
    {
     "name": "stdout",
     "output_type": "stream",
     "text": [
      "wd/uc_q_dmp/a6e035a/conf.yaml\n",
      "wd/uc_t_dmp/fea87f9/conf.yaml\n",
      "wd/uc_g_dmp/3d60891/conf.yaml\n"
     ]
    }
   ],
   "source": [
    "from glob import glob\n",
    "import yaml\n",
    "for fn in glob(\"wd/*/*/conf.yaml\"):\n",
    "    print(fn)\n",
    "    with open(fn,\"r\") as f:\n",
    "        cf = yaml.safe_load(f)\n",
    "    cf[\"models\"][\"gen\"][\"params\"][\"sample_until_full\"]=False\n",
    "    with open(fn,\"w\") as f:\n",
    "        yaml.safe_dump(cf,f)\n"
   ]
  },
  {
   "cell_type": "code",
   "execution_count": null,
   "metadata": {},
   "outputs": [],
   "source": []
  }
 ],
 "metadata": {
  "kernelspec": {
   "display_name": "venv",
   "language": "python",
   "name": "python3"
  },
  "language_info": {
   "codemirror_mode": {
    "name": "ipython",
    "version": 3
   },
   "file_extension": ".py",
   "mimetype": "text/x-python",
   "name": "python",
   "nbconvert_exporter": "python",
   "pygments_lexer": "ipython3",
   "version": "3.10.1"
  },
  "orig_nbformat": 4
 },
 "nbformat": 4,
 "nbformat_minor": 2
}
